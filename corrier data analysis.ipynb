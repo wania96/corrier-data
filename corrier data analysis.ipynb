{
 "cells": [
  {
   "cell_type": "code",
   "execution_count": 76,
   "id": "35e209d9",
   "metadata": {},
   "outputs": [],
   "source": [
    "import pandas as pd\n",
    "import numpy as np"
   ]
  },
  {
   "cell_type": "code",
   "execution_count": 77,
   "id": "06c47f61",
   "metadata": {},
   "outputs": [],
   "source": [
    "df=pd.read_csv(r\"C:\\Users\\Haier\\Desktop\\Courierinfo.csv\")"
   ]
  },
  {
   "cell_type": "code",
   "execution_count": 78,
   "id": "07d68aa9",
   "metadata": {},
   "outputs": [
    {
     "data": {
      "text/html": [
       "<div>\n",
       "<style scoped>\n",
       "    .dataframe tbody tr th:only-of-type {\n",
       "        vertical-align: middle;\n",
       "    }\n",
       "\n",
       "    .dataframe tbody tr th {\n",
       "        vertical-align: top;\n",
       "    }\n",
       "\n",
       "    .dataframe thead th {\n",
       "        text-align: right;\n",
       "    }\n",
       "</style>\n",
       "<table border=\"1\" class=\"dataframe\">\n",
       "  <thead>\n",
       "    <tr style=\"text-align: right;\">\n",
       "      <th></th>\n",
       "      <th>Actual_Shipment_Time</th>\n",
       "      <th>Planned_Shipment_Time</th>\n",
       "      <th>Planned_Delivery_Time</th>\n",
       "      <th>Carrier_Name</th>\n",
       "      <th>Carrier_Num</th>\n",
       "      <th>Planned_TimeofTravel</th>\n",
       "      <th>Shipment_Delay</th>\n",
       "      <th>Source</th>\n",
       "      <th>Destination</th>\n",
       "      <th>Distance</th>\n",
       "      <th>Delivery_Status</th>\n",
       "    </tr>\n",
       "  </thead>\n",
       "  <tbody>\n",
       "    <tr>\n",
       "      <th>0</th>\n",
       "      <td>2003.0</td>\n",
       "      <td>1955</td>\n",
       "      <td>2225</td>\n",
       "      <td>WN</td>\n",
       "      <td>335</td>\n",
       "      <td>150</td>\n",
       "      <td>8.0</td>\n",
       "      <td>IAD</td>\n",
       "      <td>TPA</td>\n",
       "      <td>810</td>\n",
       "      <td>0.0</td>\n",
       "    </tr>\n",
       "    <tr>\n",
       "      <th>1</th>\n",
       "      <td>754.0</td>\n",
       "      <td>735</td>\n",
       "      <td>1000</td>\n",
       "      <td>WN</td>\n",
       "      <td>3231</td>\n",
       "      <td>145</td>\n",
       "      <td>19.0</td>\n",
       "      <td>IAD</td>\n",
       "      <td>TPA</td>\n",
       "      <td>810</td>\n",
       "      <td>1.0</td>\n",
       "    </tr>\n",
       "    <tr>\n",
       "      <th>2</th>\n",
       "      <td>628.0</td>\n",
       "      <td>620</td>\n",
       "      <td>750</td>\n",
       "      <td>WN</td>\n",
       "      <td>448</td>\n",
       "      <td>90</td>\n",
       "      <td>8.0</td>\n",
       "      <td>IND</td>\n",
       "      <td>BWI</td>\n",
       "      <td>515</td>\n",
       "      <td>0.0</td>\n",
       "    </tr>\n",
       "    <tr>\n",
       "      <th>3</th>\n",
       "      <td>926.0</td>\n",
       "      <td>930</td>\n",
       "      <td>1100</td>\n",
       "      <td>WN</td>\n",
       "      <td>1746</td>\n",
       "      <td>90</td>\n",
       "      <td>-4.0</td>\n",
       "      <td>IND</td>\n",
       "      <td>BWI</td>\n",
       "      <td>515</td>\n",
       "      <td>0.0</td>\n",
       "    </tr>\n",
       "    <tr>\n",
       "      <th>4</th>\n",
       "      <td>1829.0</td>\n",
       "      <td>1755</td>\n",
       "      <td>1925</td>\n",
       "      <td>WN</td>\n",
       "      <td>3920</td>\n",
       "      <td>90</td>\n",
       "      <td>34.0</td>\n",
       "      <td>IND</td>\n",
       "      <td>BWI</td>\n",
       "      <td>515</td>\n",
       "      <td>1.0</td>\n",
       "    </tr>\n",
       "    <tr>\n",
       "      <th>5</th>\n",
       "      <td>1940.0</td>\n",
       "      <td>1915</td>\n",
       "      <td>2110</td>\n",
       "      <td>WN</td>\n",
       "      <td>378</td>\n",
       "      <td>115</td>\n",
       "      <td>25.0</td>\n",
       "      <td>IND</td>\n",
       "      <td>JAX</td>\n",
       "      <td>688</td>\n",
       "      <td>1.0</td>\n",
       "    </tr>\n",
       "    <tr>\n",
       "      <th>6</th>\n",
       "      <td>1937.0</td>\n",
       "      <td>1830</td>\n",
       "      <td>1940</td>\n",
       "      <td>WN</td>\n",
       "      <td>509</td>\n",
       "      <td>250</td>\n",
       "      <td>67.0</td>\n",
       "      <td>IND</td>\n",
       "      <td>LAS</td>\n",
       "      <td>1591</td>\n",
       "      <td>1.0</td>\n",
       "    </tr>\n",
       "    <tr>\n",
       "      <th>7</th>\n",
       "      <td>1039.0</td>\n",
       "      <td>1040</td>\n",
       "      <td>1150</td>\n",
       "      <td>WN</td>\n",
       "      <td>535</td>\n",
       "      <td>250</td>\n",
       "      <td>-1.0</td>\n",
       "      <td>IND</td>\n",
       "      <td>LAS</td>\n",
       "      <td>1591</td>\n",
       "      <td>0.0</td>\n",
       "    </tr>\n",
       "    <tr>\n",
       "      <th>8</th>\n",
       "      <td>617.0</td>\n",
       "      <td>615</td>\n",
       "      <td>650</td>\n",
       "      <td>WN</td>\n",
       "      <td>11</td>\n",
       "      <td>95</td>\n",
       "      <td>2.0</td>\n",
       "      <td>IND</td>\n",
       "      <td>MCI</td>\n",
       "      <td>451</td>\n",
       "      <td>0.0</td>\n",
       "    </tr>\n",
       "    <tr>\n",
       "      <th>9</th>\n",
       "      <td>1620.0</td>\n",
       "      <td>1620</td>\n",
       "      <td>1655</td>\n",
       "      <td>WN</td>\n",
       "      <td>810</td>\n",
       "      <td>95</td>\n",
       "      <td>0.0</td>\n",
       "      <td>IND</td>\n",
       "      <td>MCI</td>\n",
       "      <td>451</td>\n",
       "      <td>0.0</td>\n",
       "    </tr>\n",
       "  </tbody>\n",
       "</table>\n",
       "</div>"
      ],
      "text/plain": [
       "   Actual_Shipment_Time  Planned_Shipment_Time  Planned_Delivery_Time  \\\n",
       "0                2003.0                   1955                   2225   \n",
       "1                 754.0                    735                   1000   \n",
       "2                 628.0                    620                    750   \n",
       "3                 926.0                    930                   1100   \n",
       "4                1829.0                   1755                   1925   \n",
       "5                1940.0                   1915                   2110   \n",
       "6                1937.0                   1830                   1940   \n",
       "7                1039.0                   1040                   1150   \n",
       "8                 617.0                    615                    650   \n",
       "9                1620.0                   1620                   1655   \n",
       "\n",
       "  Carrier_Name  Carrier_Num  Planned_TimeofTravel  Shipment_Delay Source  \\\n",
       "0           WN          335                   150             8.0    IAD   \n",
       "1           WN         3231                   145            19.0    IAD   \n",
       "2           WN          448                    90             8.0    IND   \n",
       "3           WN         1746                    90            -4.0    IND   \n",
       "4           WN         3920                    90            34.0    IND   \n",
       "5           WN          378                   115            25.0    IND   \n",
       "6           WN          509                   250            67.0    IND   \n",
       "7           WN          535                   250            -1.0    IND   \n",
       "8           WN           11                    95             2.0    IND   \n",
       "9           WN          810                    95             0.0    IND   \n",
       "\n",
       "  Destination  Distance  Delivery_Status  \n",
       "0         TPA       810              0.0  \n",
       "1         TPA       810              1.0  \n",
       "2         BWI       515              0.0  \n",
       "3         BWI       515              0.0  \n",
       "4         BWI       515              1.0  \n",
       "5         JAX       688              1.0  \n",
       "6         LAS      1591              1.0  \n",
       "7         LAS      1591              0.0  \n",
       "8         MCI       451              0.0  \n",
       "9         MCI       451              0.0  "
      ]
     },
     "execution_count": 78,
     "metadata": {},
     "output_type": "execute_result"
    }
   ],
   "source": [
    "df.head(10)"
   ]
  },
  {
   "cell_type": "code",
   "execution_count": 79,
   "id": "4a660c66",
   "metadata": {},
   "outputs": [
    {
     "data": {
      "text/plain": [
       "Actual_Shipment_Time     8543\n",
       "Planned_Shipment_Time       0\n",
       "Planned_Delivery_Time       0\n",
       "Carrier_Name                0\n",
       "Carrier_Num                 0\n",
       "Planned_TimeofTravel        0\n",
       "Shipment_Delay           8543\n",
       "Source                      0\n",
       "Destination                 0\n",
       "Distance                    0\n",
       "Delivery_Status          8543\n",
       "dtype: int64"
      ]
     },
     "execution_count": 79,
     "metadata": {},
     "output_type": "execute_result"
    }
   ],
   "source": [
    "df.isnull().sum()"
   ]
  },
  {
   "cell_type": "code",
   "execution_count": 81,
   "id": "2155314e",
   "metadata": {},
   "outputs": [
    {
     "data": {
      "text/plain": [
       "(278934, 11)"
      ]
     },
     "execution_count": 81,
     "metadata": {},
     "output_type": "execute_result"
    }
   ],
   "source": [
    "df.shape"
   ]
  },
  {
   "cell_type": "code",
   "execution_count": 82,
   "id": "d5627728",
   "metadata": {},
   "outputs": [],
   "source": [
    "df.dropna(inplace=True)"
   ]
  },
  {
   "cell_type": "code",
   "execution_count": 83,
   "id": "81df6e7d",
   "metadata": {},
   "outputs": [
    {
     "data": {
      "text/plain": [
       "Actual_Shipment_Time     0\n",
       "Planned_Shipment_Time    0\n",
       "Planned_Delivery_Time    0\n",
       "Carrier_Name             0\n",
       "Carrier_Num              0\n",
       "Planned_TimeofTravel     0\n",
       "Shipment_Delay           0\n",
       "Source                   0\n",
       "Destination              0\n",
       "Distance                 0\n",
       "Delivery_Status          0\n",
       "dtype: int64"
      ]
     },
     "execution_count": 83,
     "metadata": {},
     "output_type": "execute_result"
    }
   ],
   "source": [
    "df.isnull().sum()"
   ]
  },
  {
   "cell_type": "code",
   "execution_count": 84,
   "id": "8c0f4586",
   "metadata": {},
   "outputs": [
    {
     "data": {
      "text/plain": [
       "67324"
      ]
     },
     "execution_count": 84,
     "metadata": {},
     "output_type": "execute_result"
    }
   ],
   "source": [
    "df.duplicated().sum()\n",
    "\n"
   ]
  },
  {
   "cell_type": "code",
   "execution_count": 85,
   "id": "49301803",
   "metadata": {
    "scrolled": true
   },
   "outputs": [],
   "source": [
    "df.drop_duplicates(inplace=True)"
   ]
  },
  {
   "cell_type": "code",
   "execution_count": 86,
   "id": "1d5f9585",
   "metadata": {},
   "outputs": [
    {
     "data": {
      "text/plain": [
       "Actual_Shipment_Time     float64\n",
       "Planned_Shipment_Time      int64\n",
       "Planned_Delivery_Time      int64\n",
       "Carrier_Name              object\n",
       "Carrier_Num                int64\n",
       "Planned_TimeofTravel       int64\n",
       "Shipment_Delay           float64\n",
       "Source                    object\n",
       "Destination               object\n",
       "Distance                   int64\n",
       "Delivery_Status          float64\n",
       "dtype: object"
      ]
     },
     "execution_count": 86,
     "metadata": {},
     "output_type": "execute_result"
    }
   ],
   "source": [
    "df.dtypes"
   ]
  },
  {
   "cell_type": "code",
   "execution_count": 87,
   "id": "6376b42e",
   "metadata": {},
   "outputs": [
    {
     "data": {
      "text/html": [
       "<div>\n",
       "<style scoped>\n",
       "    .dataframe tbody tr th:only-of-type {\n",
       "        vertical-align: middle;\n",
       "    }\n",
       "\n",
       "    .dataframe tbody tr th {\n",
       "        vertical-align: top;\n",
       "    }\n",
       "\n",
       "    .dataframe thead th {\n",
       "        text-align: right;\n",
       "    }\n",
       "</style>\n",
       "<table border=\"1\" class=\"dataframe\">\n",
       "  <thead>\n",
       "    <tr style=\"text-align: right;\">\n",
       "      <th></th>\n",
       "      <th>Actual_Shipment_Time</th>\n",
       "      <th>Planned_Shipment_Time</th>\n",
       "      <th>Planned_Delivery_Time</th>\n",
       "      <th>Carrier_Name</th>\n",
       "      <th>Carrier_Num</th>\n",
       "      <th>Planned_TimeofTravel</th>\n",
       "      <th>Shipment_Delay</th>\n",
       "      <th>Source</th>\n",
       "      <th>Destination</th>\n",
       "      <th>Distance</th>\n",
       "      <th>Delivery_Status</th>\n",
       "    </tr>\n",
       "  </thead>\n",
       "  <tbody>\n",
       "    <tr>\n",
       "      <th>0</th>\n",
       "      <td>2003.0</td>\n",
       "      <td>1955</td>\n",
       "      <td>2225</td>\n",
       "      <td>5</td>\n",
       "      <td>335</td>\n",
       "      <td>150</td>\n",
       "      <td>8.0</td>\n",
       "      <td>IAD</td>\n",
       "      <td>TPA</td>\n",
       "      <td>810</td>\n",
       "      <td>0.0</td>\n",
       "    </tr>\n",
       "    <tr>\n",
       "      <th>1</th>\n",
       "      <td>754.0</td>\n",
       "      <td>735</td>\n",
       "      <td>1000</td>\n",
       "      <td>5</td>\n",
       "      <td>3231</td>\n",
       "      <td>145</td>\n",
       "      <td>19.0</td>\n",
       "      <td>IAD</td>\n",
       "      <td>TPA</td>\n",
       "      <td>810</td>\n",
       "      <td>1.0</td>\n",
       "    </tr>\n",
       "    <tr>\n",
       "      <th>2</th>\n",
       "      <td>628.0</td>\n",
       "      <td>620</td>\n",
       "      <td>750</td>\n",
       "      <td>5</td>\n",
       "      <td>448</td>\n",
       "      <td>90</td>\n",
       "      <td>8.0</td>\n",
       "      <td>IND</td>\n",
       "      <td>BWI</td>\n",
       "      <td>515</td>\n",
       "      <td>0.0</td>\n",
       "    </tr>\n",
       "    <tr>\n",
       "      <th>3</th>\n",
       "      <td>926.0</td>\n",
       "      <td>930</td>\n",
       "      <td>1100</td>\n",
       "      <td>5</td>\n",
       "      <td>1746</td>\n",
       "      <td>90</td>\n",
       "      <td>-4.0</td>\n",
       "      <td>IND</td>\n",
       "      <td>BWI</td>\n",
       "      <td>515</td>\n",
       "      <td>0.0</td>\n",
       "    </tr>\n",
       "    <tr>\n",
       "      <th>4</th>\n",
       "      <td>1829.0</td>\n",
       "      <td>1755</td>\n",
       "      <td>1925</td>\n",
       "      <td>5</td>\n",
       "      <td>3920</td>\n",
       "      <td>90</td>\n",
       "      <td>34.0</td>\n",
       "      <td>IND</td>\n",
       "      <td>BWI</td>\n",
       "      <td>515</td>\n",
       "      <td>1.0</td>\n",
       "    </tr>\n",
       "  </tbody>\n",
       "</table>\n",
       "</div>"
      ],
      "text/plain": [
       "   Actual_Shipment_Time  Planned_Shipment_Time  Planned_Delivery_Time  \\\n",
       "0                2003.0                   1955                   2225   \n",
       "1                 754.0                    735                   1000   \n",
       "2                 628.0                    620                    750   \n",
       "3                 926.0                    930                   1100   \n",
       "4                1829.0                   1755                   1925   \n",
       "\n",
       "   Carrier_Name  Carrier_Num  Planned_TimeofTravel  Shipment_Delay Source  \\\n",
       "0             5          335                   150             8.0    IAD   \n",
       "1             5         3231                   145            19.0    IAD   \n",
       "2             5          448                    90             8.0    IND   \n",
       "3             5         1746                    90            -4.0    IND   \n",
       "4             5         3920                    90            34.0    IND   \n",
       "\n",
       "  Destination  Distance  Delivery_Status  \n",
       "0         TPA       810              0.0  \n",
       "1         TPA       810              1.0  \n",
       "2         BWI       515              0.0  \n",
       "3         BWI       515              0.0  \n",
       "4         BWI       515              1.0  "
      ]
     },
     "execution_count": 87,
     "metadata": {},
     "output_type": "execute_result"
    }
   ],
   "source": [
    "\n",
    "from sklearn import preprocessing\n",
    "label_encoder = preprocessing.LabelEncoder()\n",
    "df['Carrier_Name']= label_encoder.fit_transform(df['Carrier_Name']) \n",
    "df.head()"
   ]
  },
  {
   "cell_type": "code",
   "execution_count": 88,
   "id": "4d5f6699",
   "metadata": {},
   "outputs": [
    {
     "data": {
      "text/html": [
       "<div>\n",
       "<style scoped>\n",
       "    .dataframe tbody tr th:only-of-type {\n",
       "        vertical-align: middle;\n",
       "    }\n",
       "\n",
       "    .dataframe tbody tr th {\n",
       "        vertical-align: top;\n",
       "    }\n",
       "\n",
       "    .dataframe thead th {\n",
       "        text-align: right;\n",
       "    }\n",
       "</style>\n",
       "<table border=\"1\" class=\"dataframe\">\n",
       "  <thead>\n",
       "    <tr style=\"text-align: right;\">\n",
       "      <th></th>\n",
       "      <th>Actual_Shipment_Time</th>\n",
       "      <th>Planned_Shipment_Time</th>\n",
       "      <th>Planned_Delivery_Time</th>\n",
       "      <th>Carrier_Name</th>\n",
       "      <th>Carrier_Num</th>\n",
       "      <th>Planned_TimeofTravel</th>\n",
       "      <th>Shipment_Delay</th>\n",
       "      <th>Source</th>\n",
       "      <th>Destination</th>\n",
       "      <th>Distance</th>\n",
       "      <th>Delivery_Status</th>\n",
       "    </tr>\n",
       "  </thead>\n",
       "  <tbody>\n",
       "    <tr>\n",
       "      <th>0</th>\n",
       "      <td>2003.0</td>\n",
       "      <td>1955</td>\n",
       "      <td>2225</td>\n",
       "      <td>5</td>\n",
       "      <td>335</td>\n",
       "      <td>150</td>\n",
       "      <td>8.0</td>\n",
       "      <td>93</td>\n",
       "      <td>TPA</td>\n",
       "      <td>810</td>\n",
       "      <td>0.0</td>\n",
       "    </tr>\n",
       "    <tr>\n",
       "      <th>1</th>\n",
       "      <td>754.0</td>\n",
       "      <td>735</td>\n",
       "      <td>1000</td>\n",
       "      <td>5</td>\n",
       "      <td>3231</td>\n",
       "      <td>145</td>\n",
       "      <td>19.0</td>\n",
       "      <td>93</td>\n",
       "      <td>TPA</td>\n",
       "      <td>810</td>\n",
       "      <td>1.0</td>\n",
       "    </tr>\n",
       "    <tr>\n",
       "      <th>2</th>\n",
       "      <td>628.0</td>\n",
       "      <td>620</td>\n",
       "      <td>750</td>\n",
       "      <td>5</td>\n",
       "      <td>448</td>\n",
       "      <td>90</td>\n",
       "      <td>8.0</td>\n",
       "      <td>98</td>\n",
       "      <td>BWI</td>\n",
       "      <td>515</td>\n",
       "      <td>0.0</td>\n",
       "    </tr>\n",
       "    <tr>\n",
       "      <th>3</th>\n",
       "      <td>926.0</td>\n",
       "      <td>930</td>\n",
       "      <td>1100</td>\n",
       "      <td>5</td>\n",
       "      <td>1746</td>\n",
       "      <td>90</td>\n",
       "      <td>-4.0</td>\n",
       "      <td>98</td>\n",
       "      <td>BWI</td>\n",
       "      <td>515</td>\n",
       "      <td>0.0</td>\n",
       "    </tr>\n",
       "    <tr>\n",
       "      <th>4</th>\n",
       "      <td>1829.0</td>\n",
       "      <td>1755</td>\n",
       "      <td>1925</td>\n",
       "      <td>5</td>\n",
       "      <td>3920</td>\n",
       "      <td>90</td>\n",
       "      <td>34.0</td>\n",
       "      <td>98</td>\n",
       "      <td>BWI</td>\n",
       "      <td>515</td>\n",
       "      <td>1.0</td>\n",
       "    </tr>\n",
       "  </tbody>\n",
       "</table>\n",
       "</div>"
      ],
      "text/plain": [
       "   Actual_Shipment_Time  Planned_Shipment_Time  Planned_Delivery_Time  \\\n",
       "0                2003.0                   1955                   2225   \n",
       "1                 754.0                    735                   1000   \n",
       "2                 628.0                    620                    750   \n",
       "3                 926.0                    930                   1100   \n",
       "4                1829.0                   1755                   1925   \n",
       "\n",
       "   Carrier_Name  Carrier_Num  Planned_TimeofTravel  Shipment_Delay  Source  \\\n",
       "0             5          335                   150             8.0      93   \n",
       "1             5         3231                   145            19.0      93   \n",
       "2             5          448                    90             8.0      98   \n",
       "3             5         1746                    90            -4.0      98   \n",
       "4             5         3920                    90            34.0      98   \n",
       "\n",
       "  Destination  Distance  Delivery_Status  \n",
       "0         TPA       810              0.0  \n",
       "1         TPA       810              1.0  \n",
       "2         BWI       515              0.0  \n",
       "3         BWI       515              0.0  \n",
       "4         BWI       515              1.0  "
      ]
     },
     "execution_count": 88,
     "metadata": {},
     "output_type": "execute_result"
    }
   ],
   "source": [
    "from sklearn import preprocessing\n",
    "label_encoder = preprocessing.LabelEncoder()\n",
    "df['Source']= label_encoder.fit_transform(df['Source']) \n",
    "df.head()"
   ]
  },
  {
   "cell_type": "code",
   "execution_count": 89,
   "id": "760bc52d",
   "metadata": {},
   "outputs": [
    {
     "data": {
      "text/html": [
       "<div>\n",
       "<style scoped>\n",
       "    .dataframe tbody tr th:only-of-type {\n",
       "        vertical-align: middle;\n",
       "    }\n",
       "\n",
       "    .dataframe tbody tr th {\n",
       "        vertical-align: top;\n",
       "    }\n",
       "\n",
       "    .dataframe thead th {\n",
       "        text-align: right;\n",
       "    }\n",
       "</style>\n",
       "<table border=\"1\" class=\"dataframe\">\n",
       "  <thead>\n",
       "    <tr style=\"text-align: right;\">\n",
       "      <th></th>\n",
       "      <th>Actual_Shipment_Time</th>\n",
       "      <th>Planned_Shipment_Time</th>\n",
       "      <th>Planned_Delivery_Time</th>\n",
       "      <th>Carrier_Name</th>\n",
       "      <th>Carrier_Num</th>\n",
       "      <th>Planned_TimeofTravel</th>\n",
       "      <th>Shipment_Delay</th>\n",
       "      <th>Source</th>\n",
       "      <th>Destination</th>\n",
       "      <th>Distance</th>\n",
       "      <th>Delivery_Status</th>\n",
       "    </tr>\n",
       "  </thead>\n",
       "  <tbody>\n",
       "    <tr>\n",
       "      <th>0</th>\n",
       "      <td>2003.0</td>\n",
       "      <td>1955</td>\n",
       "      <td>2225</td>\n",
       "      <td>5</td>\n",
       "      <td>335</td>\n",
       "      <td>150</td>\n",
       "      <td>8.0</td>\n",
       "      <td>93</td>\n",
       "      <td>206</td>\n",
       "      <td>810</td>\n",
       "      <td>0.0</td>\n",
       "    </tr>\n",
       "    <tr>\n",
       "      <th>1</th>\n",
       "      <td>754.0</td>\n",
       "      <td>735</td>\n",
       "      <td>1000</td>\n",
       "      <td>5</td>\n",
       "      <td>3231</td>\n",
       "      <td>145</td>\n",
       "      <td>19.0</td>\n",
       "      <td>93</td>\n",
       "      <td>206</td>\n",
       "      <td>810</td>\n",
       "      <td>1.0</td>\n",
       "    </tr>\n",
       "    <tr>\n",
       "      <th>2</th>\n",
       "      <td>628.0</td>\n",
       "      <td>620</td>\n",
       "      <td>750</td>\n",
       "      <td>5</td>\n",
       "      <td>448</td>\n",
       "      <td>90</td>\n",
       "      <td>8.0</td>\n",
       "      <td>98</td>\n",
       "      <td>32</td>\n",
       "      <td>515</td>\n",
       "      <td>0.0</td>\n",
       "    </tr>\n",
       "    <tr>\n",
       "      <th>3</th>\n",
       "      <td>926.0</td>\n",
       "      <td>930</td>\n",
       "      <td>1100</td>\n",
       "      <td>5</td>\n",
       "      <td>1746</td>\n",
       "      <td>90</td>\n",
       "      <td>-4.0</td>\n",
       "      <td>98</td>\n",
       "      <td>32</td>\n",
       "      <td>515</td>\n",
       "      <td>0.0</td>\n",
       "    </tr>\n",
       "    <tr>\n",
       "      <th>4</th>\n",
       "      <td>1829.0</td>\n",
       "      <td>1755</td>\n",
       "      <td>1925</td>\n",
       "      <td>5</td>\n",
       "      <td>3920</td>\n",
       "      <td>90</td>\n",
       "      <td>34.0</td>\n",
       "      <td>98</td>\n",
       "      <td>32</td>\n",
       "      <td>515</td>\n",
       "      <td>1.0</td>\n",
       "    </tr>\n",
       "    <tr>\n",
       "      <th>5</th>\n",
       "      <td>1940.0</td>\n",
       "      <td>1915</td>\n",
       "      <td>2110</td>\n",
       "      <td>5</td>\n",
       "      <td>378</td>\n",
       "      <td>115</td>\n",
       "      <td>25.0</td>\n",
       "      <td>98</td>\n",
       "      <td>104</td>\n",
       "      <td>688</td>\n",
       "      <td>1.0</td>\n",
       "    </tr>\n",
       "    <tr>\n",
       "      <th>6</th>\n",
       "      <td>1937.0</td>\n",
       "      <td>1830</td>\n",
       "      <td>1940</td>\n",
       "      <td>5</td>\n",
       "      <td>509</td>\n",
       "      <td>250</td>\n",
       "      <td>67.0</td>\n",
       "      <td>98</td>\n",
       "      <td>108</td>\n",
       "      <td>1591</td>\n",
       "      <td>1.0</td>\n",
       "    </tr>\n",
       "    <tr>\n",
       "      <th>7</th>\n",
       "      <td>1039.0</td>\n",
       "      <td>1040</td>\n",
       "      <td>1150</td>\n",
       "      <td>5</td>\n",
       "      <td>535</td>\n",
       "      <td>250</td>\n",
       "      <td>-1.0</td>\n",
       "      <td>98</td>\n",
       "      <td>108</td>\n",
       "      <td>1591</td>\n",
       "      <td>0.0</td>\n",
       "    </tr>\n",
       "    <tr>\n",
       "      <th>8</th>\n",
       "      <td>617.0</td>\n",
       "      <td>615</td>\n",
       "      <td>650</td>\n",
       "      <td>5</td>\n",
       "      <td>11</td>\n",
       "      <td>95</td>\n",
       "      <td>2.0</td>\n",
       "      <td>98</td>\n",
       "      <td>123</td>\n",
       "      <td>451</td>\n",
       "      <td>0.0</td>\n",
       "    </tr>\n",
       "    <tr>\n",
       "      <th>9</th>\n",
       "      <td>1620.0</td>\n",
       "      <td>1620</td>\n",
       "      <td>1655</td>\n",
       "      <td>5</td>\n",
       "      <td>810</td>\n",
       "      <td>95</td>\n",
       "      <td>0.0</td>\n",
       "      <td>98</td>\n",
       "      <td>123</td>\n",
       "      <td>451</td>\n",
       "      <td>0.0</td>\n",
       "    </tr>\n",
       "  </tbody>\n",
       "</table>\n",
       "</div>"
      ],
      "text/plain": [
       "   Actual_Shipment_Time  Planned_Shipment_Time  Planned_Delivery_Time  \\\n",
       "0                2003.0                   1955                   2225   \n",
       "1                 754.0                    735                   1000   \n",
       "2                 628.0                    620                    750   \n",
       "3                 926.0                    930                   1100   \n",
       "4                1829.0                   1755                   1925   \n",
       "5                1940.0                   1915                   2110   \n",
       "6                1937.0                   1830                   1940   \n",
       "7                1039.0                   1040                   1150   \n",
       "8                 617.0                    615                    650   \n",
       "9                1620.0                   1620                   1655   \n",
       "\n",
       "   Carrier_Name  Carrier_Num  Planned_TimeofTravel  Shipment_Delay  Source  \\\n",
       "0             5          335                   150             8.0      93   \n",
       "1             5         3231                   145            19.0      93   \n",
       "2             5          448                    90             8.0      98   \n",
       "3             5         1746                    90            -4.0      98   \n",
       "4             5         3920                    90            34.0      98   \n",
       "5             5          378                   115            25.0      98   \n",
       "6             5          509                   250            67.0      98   \n",
       "7             5          535                   250            -1.0      98   \n",
       "8             5           11                    95             2.0      98   \n",
       "9             5          810                    95             0.0      98   \n",
       "\n",
       "   Destination  Distance  Delivery_Status  \n",
       "0          206       810              0.0  \n",
       "1          206       810              1.0  \n",
       "2           32       515              0.0  \n",
       "3           32       515              0.0  \n",
       "4           32       515              1.0  \n",
       "5          104       688              1.0  \n",
       "6          108      1591              1.0  \n",
       "7          108      1591              0.0  \n",
       "8          123       451              0.0  \n",
       "9          123       451              0.0  "
      ]
     },
     "execution_count": 89,
     "metadata": {},
     "output_type": "execute_result"
    }
   ],
   "source": [
    "from sklearn import preprocessing\n",
    "label_encoder = preprocessing.LabelEncoder()\n",
    "df['Destination']= label_encoder.fit_transform(df['Destination']) \n",
    "df.head(10)\n"
   ]
  },
  {
   "cell_type": "code",
   "execution_count": null,
   "id": "72962b51",
   "metadata": {},
   "outputs": [],
   "source": []
  },
  {
   "cell_type": "code",
   "execution_count": 90,
   "id": "5bb799c9",
   "metadata": {},
   "outputs": [
    {
     "data": {
      "text/plain": [
       "Actual_Shipment_Time     float64\n",
       "Planned_Shipment_Time      int64\n",
       "Planned_Delivery_Time      int64\n",
       "Carrier_Name               int32\n",
       "Carrier_Num                int64\n",
       "Planned_TimeofTravel       int64\n",
       "Shipment_Delay           float64\n",
       "Source                     int32\n",
       "Destination                int32\n",
       "Distance                   int64\n",
       "Delivery_Status          float64\n",
       "dtype: object"
      ]
     },
     "execution_count": 90,
     "metadata": {},
     "output_type": "execute_result"
    }
   ],
   "source": [
    "df.dtypes"
   ]
  },
  {
   "cell_type": "code",
   "execution_count": 58,
   "id": "69530806",
   "metadata": {},
   "outputs": [],
   "source": [
    "import seaborn as sns"
   ]
  },
  {
   "cell_type": "code",
   "execution_count": 91,
   "id": "dd701c28",
   "metadata": {},
   "outputs": [
    {
     "name": "stderr",
     "output_type": "stream",
     "text": [
      "C:\\Users\\Haier\\anaconda3\\lib\\site-packages\\seaborn\\_decorators.py:36: FutureWarning: Pass the following variable as a keyword arg: x. From version 0.12, the only valid positional argument will be `data`, and passing other arguments without an explicit keyword will result in an error or misinterpretation.\n",
      "  warnings.warn(\n"
     ]
    },
    {
     "data": {
      "text/plain": [
       "<AxesSubplot:xlabel='Actual_Shipment_Time'>"
      ]
     },
     "execution_count": 91,
     "metadata": {},
     "output_type": "execute_result"
    },
    {
     "data": {
      "image/png": "[encoded data removed]",
      "text/plain": [
       "<Figure size 432x288 with 1 Axes>"
      ]
     },
     "metadata": {
      "needs_background": "light"
     },
     "output_type": "display_data"
    }
   ],
   "source": [
    "sns.boxplot(df['Actual_Shipment_Time'])"
   ]
  },
  {
   "cell_type": "code",
   "execution_count": 92,
   "id": "968ad6cc",
   "metadata": {},
   "outputs": [
    {
     "name": "stderr",
     "output_type": "stream",
     "text": [
      "C:\\Users\\Haier\\anaconda3\\lib\\site-packages\\seaborn\\_decorators.py:36: FutureWarning: Pass the following variable as a keyword arg: x. From version 0.12, the only valid positional argument will be `data`, and passing other arguments without an explicit keyword will result in an error or misinterpretation.\n",
      "  warnings.warn(\n"
     ]
    },
    {
     "data": {
      "text/plain": [
       "<AxesSubplot:xlabel='Planned_Shipment_Time'>"
      ]
     },
     "execution_count": 92,
     "metadata": {},
     "output_type": "execute_result"
    },
    {
     "data": {
      "image/png": "[encoded data removed]",
      "text/plain": [
       "<Figure size 432x288 with 1 Axes>"
      ]
     },
     "metadata": {
      "needs_background": "light"
     },
     "output_type": "display_data"
    }
   ],
   "source": [
    "sns.boxplot(df['Planned_Shipment_Time'])"
   ]
  },
  {
   "cell_type": "code",
   "execution_count": 93,
   "id": "aee61fe0",
   "metadata": {},
   "outputs": [
    {
     "name": "stderr",
     "output_type": "stream",
     "text": [
      "C:\\Users\\Haier\\anaconda3\\lib\\site-packages\\seaborn\\_decorators.py:36: FutureWarning: Pass the following variable as a keyword arg: x. From version 0.12, the only valid positional argument will be `data`, and passing other arguments without an explicit keyword will result in an error or misinterpretation.\n",
      "  warnings.warn(\n"
     ]
    },
    {
     "data": {
      "text/plain": [
       "<AxesSubplot:xlabel='Planned_Delivery_Time'>"
      ]
     },
     "execution_count": 93,
     "metadata": {},
     "output_type": "execute_result"
    },
    {
     "data": {
      "image/png": "[encoded data removed]",
      "text/plain": [
       "<Figure size 432x288 with 1 Axes>"
      ]
     },
     "metadata": {
      "needs_background": "light"
     },
     "output_type": "display_data"
    }
   ],
   "source": [
    "sns.boxplot(df['Planned_Delivery_Time'])"
   ]
  },
  {
   "cell_type": "code",
   "execution_count": 94,
   "id": "e9294eb8",
   "metadata": {},
   "outputs": [
    {
     "name": "stderr",
     "output_type": "stream",
     "text": [
      "C:\\Users\\Haier\\anaconda3\\lib\\site-packages\\seaborn\\_decorators.py:36: FutureWarning: Pass the following variable as a keyword arg: x. From version 0.12, the only valid positional argument will be `data`, and passing other arguments without an explicit keyword will result in an error or misinterpretation.\n",
      "  warnings.warn(\n"
     ]
    },
    {
     "data": {
      "text/plain": [
       "<AxesSubplot:xlabel='Carrier_Num'>"
      ]
     },
     "execution_count": 94,
     "metadata": {},
     "output_type": "execute_result"
    },
    {
     "data": {
      "image/png": "[encoded data removed]",
      "text/plain": [
       "<Figure size 432x288 with 1 Axes>"
      ]
     },
     "metadata": {
      "needs_background": "light"
     },
     "output_type": "display_data"
    }
   ],
   "source": [
    "sns.boxplot(df['Carrier_Num'])"
   ]
  },
  {
   "cell_type": "code",
   "execution_count": 95,
   "id": "587a38ad",
   "metadata": {
    "scrolled": true
   },
   "outputs": [
    {
     "name": "stderr",
     "output_type": "stream",
     "text": [
      "C:\\Users\\Haier\\anaconda3\\lib\\site-packages\\seaborn\\_decorators.py:36: FutureWarning: Pass the following variable as a keyword arg: x. From version 0.12, the only valid positional argument will be `data`, and passing other arguments without an explicit keyword will result in an error or misinterpretation.\n",
      "  warnings.warn(\n"
     ]
    },
    {
     "data": {
      "text/plain": [
       "<AxesSubplot:xlabel='Planned_TimeofTravel'>"
      ]
     },
     "execution_count": 95,
     "metadata": {},
     "output_type": "execute_result"
    },
    {
     "data": {
      "image/png": "[encoded data removed]",
      "text/plain": [
       "<Figure size 432x288 with 1 Axes>"
      ]
     },
     "metadata": {
      "needs_background": "light"
     },
     "output_type": "display_data"
    }
   ],
   "source": [
    "sns.boxplot(df['Planned_TimeofTravel'])"
   ]
  },
  {
   "cell_type": "code",
   "execution_count": 96,
   "id": "d8c68823",
   "metadata": {},
   "outputs": [
    {
     "data": {
      "text/plain": [
       "count    203067.000000\n",
       "mean        121.832046\n",
       "std          65.103965\n",
       "min          -9.000000\n",
       "25%          76.000000\n",
       "50%         104.000000\n",
       "75%         149.000000\n",
       "max         556.000000\n",
       "Name: Planned_TimeofTravel, dtype: float64"
      ]
     },
     "execution_count": 96,
     "metadata": {},
     "output_type": "execute_result"
    }
   ],
   "source": [
    "df['Planned_TimeofTravel'].describe()\n"
   ]
  },
  {
   "cell_type": "code",
   "execution_count": 97,
   "id": "882fb2dd",
   "metadata": {},
   "outputs": [
    {
     "name": "stderr",
     "output_type": "stream",
     "text": [
      "C:\\Users\\Haier\\anaconda3\\lib\\site-packages\\seaborn\\_decorators.py:36: FutureWarning: Pass the following variable as a keyword arg: x. From version 0.12, the only valid positional argument will be `data`, and passing other arguments without an explicit keyword will result in an error or misinterpretation.\n",
      "  warnings.warn(\n"
     ]
    },
    {
     "data": {
      "text/plain": [
       "<AxesSubplot:xlabel='Planned_TimeofTravel'>"
      ]
     },
     "execution_count": 97,
     "metadata": {},
     "output_type": "execute_result"
    },
    {
     "data": {
      "image/png": "[encoded data removed]",
      "text/plain": [
       "<Figure size 432x288 with 1 Axes>"
      ]
     },
     "metadata": {
      "needs_background": "light"
     },
     "output_type": "display_data"
    }
   ],
   "source": [
    "q3=149\n",
    "q1=76\n",
    "iqr=q3-q1\n",
    "lc=q3-(1.5*iqr)\n",
    "uc=q3+(1.5*iqr)\n",
    "df[\"Planned_TimeofTravel\"]=np.where(df['Planned_TimeofTravel']>uc,uc,df['Planned_TimeofTravel'])\n",
    "sns.boxplot(df['Planned_TimeofTravel'])"
   ]
  },
  {
   "cell_type": "code",
   "execution_count": 98,
   "id": "9854ff46",
   "metadata": {},
   "outputs": [
    {
     "data": {
      "text/plain": [
       "array([0., 1.])"
      ]
     },
     "execution_count": 98,
     "metadata": {},
     "output_type": "execute_result"
    }
   ],
   "source": [
    "df.Delivery_Status.unique()\n"
   ]
  },
  {
   "cell_type": "code",
   "execution_count": 99,
   "id": "a1ae9efb",
   "metadata": {},
   "outputs": [],
   "source": [
    "import statsmodels.formula.api as smf"
   ]
  },
  {
   "cell_type": "code",
   "execution_count": 100,
   "id": "05eb9894",
   "metadata": {},
   "outputs": [
    {
     "data": {
      "text/plain": [
       "Index(['Actual_Shipment_Time', 'Planned_Shipment_Time',\n",
       "       'Planned_Delivery_Time', 'Carrier_Name', 'Carrier_Num',\n",
       "       'Planned_TimeofTravel', 'Shipment_Delay', 'Source', 'Destination',\n",
       "       'Distance', 'Delivery_Status'],\n",
       "      dtype='object')"
      ]
     },
     "execution_count": 100,
     "metadata": {},
     "output_type": "execute_result"
    }
   ],
   "source": [
    "df.columns"
   ]
  },
  {
   "cell_type": "code",
   "execution_count": 101,
   "id": "9e1947b7",
   "metadata": {},
   "outputs": [],
   "source": [
    "formula='Delivery_Status~Actual_Shipment_Time+Planned_Shipment_Time+Planned_Delivery_Time+Carrier_Name+Carrier_Num+Planned_TimeofTravel+Shipment_Delay+Source+Destination+Distance'"
   ]
  },
  {
   "cell_type": "code",
   "execution_count": 102,
   "id": "4d12eff7",
   "metadata": {},
   "outputs": [],
   "source": [
    "model=smf.ols(formula,data=df).fit()"
   ]
  },
  {
   "cell_type": "code",
   "execution_count": 103,
   "id": "ddc112c7",
   "metadata": {},
   "outputs": [
    {
     "name": "stdout",
     "output_type": "stream",
     "text": [
      "                   Results: Ordinary least squares\n",
      "======================================================================\n",
      "Model:                OLS              Adj. R-squared:     0.482      \n",
      "Dependent Variable:   Delivery_Status  AIC:                116960.6853\n",
      "Date:                 2022-03-27 14:17 BIC:                117073.1195\n",
      "No. Observations:     203067           Log-Likelihood:     -58469.    \n",
      "Df Model:             10               F-statistic:        1.892e+04  \n",
      "Df Residuals:         203056           Prob (F-statistic): 0.00       \n",
      "R-squared:            0.482            Scale:              0.10415    \n",
      "----------------------------------------------------------------------\n",
      "                       Coef.  Std.Err.    t     P>|t|   [0.025  0.975]\n",
      "----------------------------------------------------------------------\n",
      "Intercept              0.0265   0.0049   5.4280 0.0000  0.0169  0.0360\n",
      "Actual_Shipment_Time   0.0002   0.0000  34.5576 0.0000  0.0002  0.0002\n",
      "Planned_Shipment_Time -0.0001   0.0000 -21.4458 0.0000 -0.0001 -0.0001\n",
      "Planned_Delivery_Time  0.0000   0.0000   4.7552 0.0000  0.0000  0.0000\n",
      "Carrier_Name          -0.0026   0.0005  -5.1877 0.0000 -0.0035 -0.0016\n",
      "Carrier_Num            0.0000   0.0000   3.9906 0.0001  0.0000  0.0000\n",
      "Planned_TimeofTravel   0.0002   0.0000   4.2951 0.0000  0.0001  0.0003\n",
      "Shipment_Delay         0.0074   0.0000 377.0674 0.0000  0.0074  0.0074\n",
      "Source                 0.0000   0.0000   1.4347 0.1514 -0.0000  0.0000\n",
      "Destination           -0.0000   0.0000  -0.8579 0.3910 -0.0000  0.0000\n",
      "Distance              -0.0000   0.0000  -4.6898 0.0000 -0.0000 -0.0000\n",
      "----------------------------------------------------------------------\n",
      "Omnibus:              32901.831      Durbin-Watson:         1.876     \n",
      "Prob(Omnibus):        0.000          Jarque-Bera (JB):      455542.842\n",
      "Skew:                 0.344          Prob(JB):              0.000     \n",
      "Kurtosis:             10.305         Condition No.:         26492     \n",
      "======================================================================\n",
      "* The condition number is large (3e+04). This might indicate\n",
      "strong multicollinearity or other numerical problems.\n"
     ]
    }
   ],
   "source": [
    "print(model.summary2())"
   ]
  },
  {
   "cell_type": "code",
   "execution_count": 106,
   "id": "83a2c4ad",
   "metadata": {},
   "outputs": [],
   "source": [
    "x=df.drop(['Destination'],axis=1)"
   ]
  },
  {
   "cell_type": "code",
   "execution_count": 107,
   "id": "86bfabed",
   "metadata": {},
   "outputs": [],
   "source": [
    "formula='Delivery_Status~Actual_Shipment_Time+Planned_Shipment_Time+Planned_Delivery_Time+Carrier_Name+Carrier_Num+Planned_TimeofTravel+Shipment_Delay+Source+Distance'"
   ]
  },
  {
   "cell_type": "code",
   "execution_count": 108,
   "id": "424670da",
   "metadata": {},
   "outputs": [
    {
     "name": "stdout",
     "output_type": "stream",
     "text": [
      "                   Results: Ordinary least squares\n",
      "======================================================================\n",
      "Model:                OLS              Adj. R-squared:     0.482      \n",
      "Dependent Variable:   Delivery_Status  AIC:                116959.4213\n",
      "Date:                 2022-03-27 14:20 BIC:                117061.6342\n",
      "No. Observations:     203067           Log-Likelihood:     -58470.    \n",
      "Df Model:             9                F-statistic:        2.102e+04  \n",
      "Df Residuals:         203057           Prob (F-statistic): 0.00       \n",
      "R-squared:            0.482            Scale:              0.10415    \n",
      "----------------------------------------------------------------------\n",
      "                       Coef.  Std.Err.    t     P>|t|   [0.025  0.975]\n",
      "----------------------------------------------------------------------\n",
      "Intercept              0.0252   0.0047   5.4197 0.0000  0.0161  0.0343\n",
      "Actual_Shipment_Time   0.0002   0.0000  34.5552 0.0000  0.0002  0.0002\n",
      "Planned_Shipment_Time -0.0001   0.0000 -21.4509 0.0000 -0.0001 -0.0001\n",
      "Planned_Delivery_Time  0.0000   0.0000   4.7699 0.0000  0.0000  0.0000\n",
      "Carrier_Name          -0.0025   0.0005  -5.1422 0.0000 -0.0035 -0.0016\n",
      "Carrier_Num            0.0000   0.0000   4.0293 0.0001  0.0000  0.0000\n",
      "Planned_TimeofTravel   0.0002   0.0000   4.2852 0.0000  0.0001  0.0003\n",
      "Shipment_Delay         0.0074   0.0000 377.0713 0.0000  0.0074  0.0074\n",
      "Source                 0.0000   0.0000   1.3858 0.1658 -0.0000  0.0000\n",
      "Distance              -0.0000   0.0000  -4.6857 0.0000 -0.0000 -0.0000\n",
      "----------------------------------------------------------------------\n",
      "Omnibus:              32899.734      Durbin-Watson:         1.876     \n",
      "Prob(Omnibus):        0.000          Jarque-Bera (JB):      455425.583\n",
      "Skew:                 0.344          Prob(JB):              0.000     \n",
      "Kurtosis:             10.304         Condition No.:         25274     \n",
      "======================================================================\n",
      "* The condition number is large (3e+04). This might indicate\n",
      "strong multicollinearity or other numerical problems.\n"
     ]
    }
   ],
   "source": [
    "model=smf.ols(formula,data=df).fit()\n",
    "print(model.summary2())"
   ]
  },
  {
   "cell_type": "code",
   "execution_count": 109,
   "id": "f8ee682b",
   "metadata": {},
   "outputs": [],
   "source": [
    "x1=x.drop(['Source'],axis=1)"
   ]
  },
  {
   "cell_type": "code",
   "execution_count": 110,
   "id": "76b0f41f",
   "metadata": {},
   "outputs": [],
   "source": [
    "formula='Delivery_Status~Actual_Shipment_Time+Planned_Shipment_Time+Planned_Delivery_Time+Carrier_Name+Carrier_Num+Planned_TimeofTravel+Shipment_Delay+Distance'"
   ]
  },
  {
   "cell_type": "code",
   "execution_count": 111,
   "id": "ee7bb65b",
   "metadata": {},
   "outputs": [
    {
     "name": "stdout",
     "output_type": "stream",
     "text": [
      "                   Results: Ordinary least squares\n",
      "======================================================================\n",
      "Model:                OLS              Adj. R-squared:     0.482      \n",
      "Dependent Variable:   Delivery_Status  AIC:                116959.3417\n",
      "Date:                 2022-03-27 14:22 BIC:                117051.3333\n",
      "No. Observations:     203067           Log-Likelihood:     -58471.    \n",
      "Df Model:             8                F-statistic:        2.364e+04  \n",
      "Df Residuals:         203058           Prob (F-statistic): 0.00       \n",
      "R-squared:            0.482            Scale:              0.10415    \n",
      "----------------------------------------------------------------------\n",
      "                       Coef.  Std.Err.    t     P>|t|   [0.025  0.975]\n",
      "----------------------------------------------------------------------\n",
      "Intercept              0.0276   0.0043   6.3988 0.0000  0.0192  0.0361\n",
      "Actual_Shipment_Time   0.0002   0.0000  34.5592 0.0000  0.0002  0.0002\n",
      "Planned_Shipment_Time -0.0001   0.0000 -21.4714 0.0000 -0.0001 -0.0001\n",
      "Planned_Delivery_Time  0.0000   0.0000   4.8078 0.0000  0.0000  0.0000\n",
      "Carrier_Name          -0.0026   0.0005  -5.2391 0.0000 -0.0035 -0.0016\n",
      "Carrier_Num            0.0000   0.0000   3.9864 0.0001  0.0000  0.0000\n",
      "Planned_TimeofTravel   0.0002   0.0000   4.1955 0.0000  0.0001  0.0003\n",
      "Shipment_Delay         0.0074   0.0000 377.1271 0.0000  0.0074  0.0074\n",
      "Distance              -0.0000   0.0000  -4.5946 0.0000 -0.0000 -0.0000\n",
      "----------------------------------------------------------------------\n",
      "Omnibus:              32901.080      Durbin-Watson:         1.876     \n",
      "Prob(Omnibus):        0.000          Jarque-Bera (JB):      455559.074\n",
      "Skew:                 0.344          Prob(JB):              0.000     \n",
      "Kurtosis:             10.305         Condition No.:         23450     \n",
      "======================================================================\n",
      "* The condition number is large (2e+04). This might indicate\n",
      "strong multicollinearity or other numerical problems.\n"
     ]
    }
   ],
   "source": [
    "model=smf.ols(formula,data=df).fit()\n",
    "print(model.summary2())"
   ]
  },
  {
   "cell_type": "code",
   "execution_count": 114,
   "id": "1222bb7d",
   "metadata": {},
   "outputs": [
    {
     "data": {
      "text/html": [
       "<div>\n",
       "<style scoped>\n",
       "    .dataframe tbody tr th:only-of-type {\n",
       "        vertical-align: middle;\n",
       "    }\n",
       "\n",
       "    .dataframe tbody tr th {\n",
       "        vertical-align: top;\n",
       "    }\n",
       "\n",
       "    .dataframe thead th {\n",
       "        text-align: right;\n",
       "    }\n",
       "</style>\n",
       "<table border=\"1\" class=\"dataframe\">\n",
       "  <thead>\n",
       "    <tr style=\"text-align: right;\">\n",
       "      <th></th>\n",
       "      <th>Actual_Shipment_Time</th>\n",
       "      <th>Planned_Shipment_Time</th>\n",
       "      <th>Planned_Delivery_Time</th>\n",
       "      <th>Carrier_Name</th>\n",
       "      <th>Carrier_Num</th>\n",
       "      <th>Planned_TimeofTravel</th>\n",
       "      <th>Shipment_Delay</th>\n",
       "      <th>Distance</th>\n",
       "    </tr>\n",
       "  </thead>\n",
       "  <tbody>\n",
       "    <tr>\n",
       "      <th>0</th>\n",
       "      <td>2003.0</td>\n",
       "      <td>1955</td>\n",
       "      <td>2225</td>\n",
       "      <td>5</td>\n",
       "      <td>335</td>\n",
       "      <td>150.0</td>\n",
       "      <td>8.0</td>\n",
       "      <td>810</td>\n",
       "    </tr>\n",
       "    <tr>\n",
       "      <th>1</th>\n",
       "      <td>754.0</td>\n",
       "      <td>735</td>\n",
       "      <td>1000</td>\n",
       "      <td>5</td>\n",
       "      <td>3231</td>\n",
       "      <td>145.0</td>\n",
       "      <td>19.0</td>\n",
       "      <td>810</td>\n",
       "    </tr>\n",
       "    <tr>\n",
       "      <th>2</th>\n",
       "      <td>628.0</td>\n",
       "      <td>620</td>\n",
       "      <td>750</td>\n",
       "      <td>5</td>\n",
       "      <td>448</td>\n",
       "      <td>90.0</td>\n",
       "      <td>8.0</td>\n",
       "      <td>515</td>\n",
       "    </tr>\n",
       "    <tr>\n",
       "      <th>3</th>\n",
       "      <td>926.0</td>\n",
       "      <td>930</td>\n",
       "      <td>1100</td>\n",
       "      <td>5</td>\n",
       "      <td>1746</td>\n",
       "      <td>90.0</td>\n",
       "      <td>-4.0</td>\n",
       "      <td>515</td>\n",
       "    </tr>\n",
       "    <tr>\n",
       "      <th>4</th>\n",
       "      <td>1829.0</td>\n",
       "      <td>1755</td>\n",
       "      <td>1925</td>\n",
       "      <td>5</td>\n",
       "      <td>3920</td>\n",
       "      <td>90.0</td>\n",
       "      <td>34.0</td>\n",
       "      <td>515</td>\n",
       "    </tr>\n",
       "  </tbody>\n",
       "</table>\n",
       "</div>"
      ],
      "text/plain": [
       "   Actual_Shipment_Time  Planned_Shipment_Time  Planned_Delivery_Time  \\\n",
       "0                2003.0                   1955                   2225   \n",
       "1                 754.0                    735                   1000   \n",
       "2                 628.0                    620                    750   \n",
       "3                 926.0                    930                   1100   \n",
       "4                1829.0                   1755                   1925   \n",
       "\n",
       "   Carrier_Name  Carrier_Num  Planned_TimeofTravel  Shipment_Delay  Distance  \n",
       "0             5          335                 150.0             8.0       810  \n",
       "1             5         3231                 145.0            19.0       810  \n",
       "2             5          448                  90.0             8.0       515  \n",
       "3             5         1746                  90.0            -4.0       515  \n",
       "4             5         3920                  90.0            34.0       515  "
      ]
     },
     "execution_count": 114,
     "metadata": {},
     "output_type": "execute_result"
    }
   ],
   "source": [
    "X=x1.drop(['Delivery_Status'],axis=1)\n",
    "X.head()"
   ]
  },
  {
   "cell_type": "code",
   "execution_count": 115,
   "id": "b7a9d005",
   "metadata": {},
   "outputs": [],
   "source": [
    "Y=df['Delivery_Status']"
   ]
  },
  {
   "cell_type": "code",
   "execution_count": 116,
   "id": "8ffd93d6",
   "metadata": {},
   "outputs": [
    {
     "data": {
      "text/plain": [
       "0    0.0\n",
       "1    1.0\n",
       "2    0.0\n",
       "3    0.0\n",
       "4    1.0\n",
       "Name: Delivery_Status, dtype: float64"
      ]
     },
     "execution_count": 116,
     "metadata": {},
     "output_type": "execute_result"
    }
   ],
   "source": [
    "Y.head()"
   ]
  },
  {
   "cell_type": "code",
   "execution_count": 118,
   "id": "87fe3a64",
   "metadata": {},
   "outputs": [],
   "source": [
    "from sklearn.linear_model import LogisticRegression"
   ]
  },
  {
   "cell_type": "code",
   "execution_count": 119,
   "id": "8efeb277",
   "metadata": {},
   "outputs": [],
   "source": [
    "model=LogisticRegression()"
   ]
  },
  {
   "cell_type": "code",
   "execution_count": 120,
   "id": "3091a509",
   "metadata": {},
   "outputs": [],
   "source": [
    "from sklearn.model_selection import train_test_split"
   ]
  },
  {
   "cell_type": "code",
   "execution_count": 121,
   "id": "edd24751",
   "metadata": {},
   "outputs": [],
   "source": [
    "x_train,x_test,y_train,y_test=train_test_split(X,Y,test_size=0.3,random_state=42)"
   ]
  },
  {
   "cell_type": "code",
   "execution_count": 122,
   "id": "97792dbf",
   "metadata": {},
   "outputs": [
    {
     "name": "stderr",
     "output_type": "stream",
     "text": [
      "C:\\Users\\Haier\\anaconda3\\lib\\site-packages\\sklearn\\linear_model\\_logistic.py:763: ConvergenceWarning: lbfgs failed to converge (status=1):\n",
      "STOP: TOTAL NO. of ITERATIONS REACHED LIMIT.\n",
      "\n",
      "Increase the number of iterations (max_iter) or scale the data as shown in:\n",
      "    https://scikit-learn.org/stable/modules/preprocessing.html\n",
      "Please also refer to the documentation for alternative solver options:\n",
      "    https://scikit-learn.org/stable/modules/linear_model.html#logistic-regression\n",
      "  n_iter_i = _check_optimize_result(\n"
     ]
    },
    {
     "data": {
      "text/plain": [
       "LogisticRegression()"
      ]
     },
     "execution_count": 122,
     "metadata": {},
     "output_type": "execute_result"
    }
   ],
   "source": [
    "model.fit(x_train,y_train)"
   ]
  },
  {
   "cell_type": "code",
   "execution_count": 124,
   "id": "4ff5b3ca",
   "metadata": {},
   "outputs": [],
   "source": [
    "pred=model.predict(x_test)"
   ]
  },
  {
   "cell_type": "code",
   "execution_count": 125,
   "id": "232ec124",
   "metadata": {},
   "outputs": [],
   "source": [
    "from sklearn.metrics import accuracy_score"
   ]
  },
  {
   "cell_type": "code",
   "execution_count": 126,
   "id": "fa40212a",
   "metadata": {},
   "outputs": [],
   "source": [
    "accuracy=accuracy_score(y_test,pred)"
   ]
  },
  {
   "cell_type": "code",
   "execution_count": 127,
   "id": "24ed29b8",
   "metadata": {},
   "outputs": [
    {
     "name": "stdout",
     "output_type": "stream",
     "text": [
      "0.9774626155184584\n"
     ]
    }
   ],
   "source": [
    "print(accuracy)"
   ]
  },
  {
   "cell_type": "code",
   "execution_count": 130,
   "id": "2a3dd860",
   "metadata": {},
   "outputs": [],
   "source": [
    "from sklearn.neighbors import KNeighborsClassifier\n"
   ]
  },
  {
   "cell_type": "code",
   "execution_count": 131,
   "id": "18469ba9",
   "metadata": {},
   "outputs": [],
   "source": [
    "model= KNeighborsClassifier()"
   ]
  },
  {
   "cell_type": "code",
   "execution_count": 132,
   "id": "e9b7cb64",
   "metadata": {},
   "outputs": [
    {
     "data": {
      "text/plain": [
       "KNeighborsClassifier()"
      ]
     },
     "execution_count": 132,
     "metadata": {},
     "output_type": "execute_result"
    }
   ],
   "source": [
    "model.fit(X, Y)"
   ]
  },
  {
   "cell_type": "code",
   "execution_count": 133,
   "id": "6e749139",
   "metadata": {},
   "outputs": [],
   "source": [
    "pred1=model.predict(x_test)"
   ]
  },
  {
   "cell_type": "code",
   "execution_count": 134,
   "id": "f4c91a16",
   "metadata": {},
   "outputs": [],
   "source": [
    "accuracy=accuracy_score(y_test,pred1)"
   ]
  },
  {
   "cell_type": "code",
   "execution_count": 135,
   "id": "5f01da1d",
   "metadata": {},
   "outputs": [
    {
     "name": "stdout",
     "output_type": "stream",
     "text": [
      "0.9427455228903006\n"
     ]
    }
   ],
   "source": [
    "print(accuracy)"
   ]
  },
  {
   "cell_type": "code",
   "execution_count": 137,
   "id": "67f24118",
   "metadata": {},
   "outputs": [],
   "source": [
    "from sklearn.model_selection import GridSearchCV"
   ]
  },
  {
   "cell_type": "code",
   "execution_count": 138,
   "id": "51434e04",
   "metadata": {},
   "outputs": [],
   "source": [
    "knn_model=KNeighborsClassifier()"
   ]
  },
  {
   "cell_type": "code",
   "execution_count": 139,
   "id": "aa35de57",
   "metadata": {},
   "outputs": [],
   "source": [
    "parameter={\"n_neighbors\":[1,3,5,7,9,11,13,15,17,19],\n",
    "          \"metric\":['minkowski','eculidean']}"
   ]
  },
  {
   "cell_type": "code",
   "execution_count": 140,
   "id": "d1f9ae0e",
   "metadata": {},
   "outputs": [],
   "source": [
    "clf=GridSearchCV(estimator=knn_model,param_grid=parameter,scoring='accuracy',n_jobs=-1)"
   ]
  },
  {
   "cell_type": "code",
   "execution_count": 141,
   "id": "eb89a6ff",
   "metadata": {},
   "outputs": [
    {
     "name": "stderr",
     "output_type": "stream",
     "text": [
      "C:\\Users\\Haier\\anaconda3\\lib\\site-packages\\sklearn\\model_selection\\_search.py:922: UserWarning: One or more of the test scores are non-finite: [0.92507703 0.89308175 0.8751917  0.86306333 0.85569765 0.85041435\n",
      " 0.84581345 0.84214821 0.83850407 0.83606995        nan        nan\n",
      "        nan        nan        nan        nan        nan        nan\n",
      "        nan        nan]\n",
      "  warnings.warn(\n"
     ]
    },
    {
     "data": {
      "text/plain": [
       "GridSearchCV(estimator=KNeighborsClassifier(), n_jobs=-1,\n",
       "             param_grid={'metric': ['minkowski', 'eculidean'],\n",
       "                         'n_neighbors': [1, 3, 5, 7, 9, 11, 13, 15, 17, 19]},\n",
       "             scoring='accuracy')"
      ]
     },
     "execution_count": 141,
     "metadata": {},
     "output_type": "execute_result"
    }
   ],
   "source": [
    "clf.fit(x_train,y_train)"
   ]
  },
  {
   "cell_type": "code",
   "execution_count": 142,
   "id": "71297804",
   "metadata": {},
   "outputs": [
    {
     "data": {
      "text/plain": [
       "{'metric': 'minkowski', 'n_neighbors': 1}"
      ]
     },
     "execution_count": 142,
     "metadata": {},
     "output_type": "execute_result"
    }
   ],
   "source": [
    "clf.best_params_"
   ]
  },
  {
   "cell_type": "code",
   "execution_count": 143,
   "id": "ec45a08c",
   "metadata": {},
   "outputs": [],
   "source": [
    "from sklearn.neighbors import KNeighborsClassifier"
   ]
  },
  {
   "cell_type": "code",
   "execution_count": 144,
   "id": "a08da7e4",
   "metadata": {},
   "outputs": [],
   "source": [
    "KNN=KNeighborsClassifier(n_neighbors=1,metric='minkowski')"
   ]
  },
  {
   "cell_type": "code",
   "execution_count": 145,
   "id": "0a255ea8",
   "metadata": {},
   "outputs": [
    {
     "data": {
      "text/plain": [
       "KNeighborsClassifier(n_neighbors=1)"
      ]
     },
     "execution_count": 145,
     "metadata": {},
     "output_type": "execute_result"
    }
   ],
   "source": [
    "KNN.fit(x_train,y_train)"
   ]
  },
  {
   "cell_type": "code",
   "execution_count": 146,
   "id": "9887cbbe",
   "metadata": {},
   "outputs": [],
   "source": [
    "knn_pred=KNN.predict(x_test)"
   ]
  },
  {
   "cell_type": "code",
   "execution_count": 147,
   "id": "b6f1fc55",
   "metadata": {},
   "outputs": [
    {
     "name": "stdout",
     "output_type": "stream",
     "text": [
      "Knn accuracy 0.9364422777039116\n"
     ]
    }
   ],
   "source": [
    "print('Knn accuracy',accuracy_score(y_test,knn_pred))"
   ]
  }
 ],
 "metadata": {
  "kernelspec": {
   "display_name": "Python 3 (ipykernel)",
   "language": "python",
   "name": "python3"
  },
  "language_info": {
   "codemirror_mode": {
    "name": "ipython",
    "version": 3
   },
   "file_extension": ".py",
   "mimetype": "text/x-python",
   "name": "python",
   "nbconvert_exporter": "python",
   "pygments_lexer": "ipython3",
   "version": "3.9.7"
  }
 },
 "nbformat": 4,
 "nbformat_minor": 5
}
